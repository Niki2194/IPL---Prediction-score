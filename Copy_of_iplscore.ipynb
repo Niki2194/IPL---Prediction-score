{
  "nbformat": 4,
  "nbformat_minor": 0,
  "metadata": {
    "colab": {
      "provenance": []
    },
    "kernelspec": {
      "name": "python3",
      "display_name": "Python 3"
    },
    "language_info": {
      "name": "python"
    }
  },
  "cells": [
    {
      "cell_type": "code",
      "execution_count": null,
      "metadata": {
        "id": "IK-VwRO1FPkU"
      },
      "outputs": [],
      "source": [
        "import pandas as pd\n",
        "import numpy as np\n",
        "import matplotlib.pyplot as plt\n",
        "import seaborn as sns\n",
        "from sklearn import preprocessing\n",
        "import keras\n",
        "import tensorflow as tf"
      ]
    },
    {
      "cell_type": "code",
      "source": [
        "from google.colab import files\n",
        "uploaded = files.upload()\n"
      ],
      "metadata": {
        "id": "-1eBugFKFrc2"
      },
      "execution_count": null,
      "outputs": []
    },
    {
      "cell_type": "code",
      "source": [
        "ipl = pd.read_csv('/content/ipl_data.csv')\n",
        "ipl.head()\n"
      ],
      "metadata": {
        "id": "IFncXQBwFifV"
      },
      "execution_count": null,
      "outputs": []
    },
    {
      "cell_type": "code",
      "source": [
        "#Dropping certain features\n",
        "df = ipl.drop(['date', 'runs', 'wickets', 'overs', 'runs_last_5', 'wickets_last_5','mid', 'striker', 'non-striker'], axis =1)\n"
      ],
      "metadata": {
        "id": "aaCZ7GrBGLdI"
      },
      "execution_count": null,
      "outputs": []
    },
    {
      "cell_type": "code",
      "source": [
        "X = df.drop(['total'], axis =1)\n",
        "y = df['total']\n"
      ],
      "metadata": {
        "id": "chjxonc9Gj8Y"
      },
      "execution_count": null,
      "outputs": []
    },
    {
      "cell_type": "code",
      "source": [
        "#Label Encoding\n",
        "\n",
        "from sklearn.preprocessing import LabelEncoder\n",
        "\n",
        "# Create a LabelEncoder object for each categorical feature\n",
        "venue_encoder = LabelEncoder()\n",
        "batting_team_encoder = LabelEncoder()\n",
        "bowling_team_encoder = LabelEncoder()\n",
        "striker_encoder = LabelEncoder()\n",
        "bowler_encoder = LabelEncoder()\n",
        "\n",
        "# Fit and transform the categorical features with label encoding\n",
        "X['venue'] = venue_encoder.fit_transform(X['venue'])\n",
        "X['bat_team'] = batting_team_encoder.fit_transform(X['bat_team'])\n",
        "X['bowl_team'] = bowling_team_encoder.fit_transform(X['bowl_team'])\n",
        "X['batsman'] = striker_encoder.fit_transform(X['batsman'])\n",
        "X['bowler'] = bowler_encoder.fit_transform(X['bowler'])\n"
      ],
      "metadata": {
        "id": "ugXJWNhLHXoc"
      },
      "execution_count": null,
      "outputs": []
    },
    {
      "cell_type": "code",
      "source": [
        "# Train test Split\n",
        "from sklearn.model_selection import train_test_split\n",
        "X_train, X_test, y_train, y_test = train_test_split(X, y, test_size=0.3, random_state=42)"
      ],
      "metadata": {
        "id": "C_OpkShHyjQG"
      },
      "execution_count": null,
      "outputs": []
    },
    {
      "cell_type": "code",
      "source": [
        "from sklearn.preprocessing import MinMaxScaler\n",
        "\n",
        "scaler = MinMaxScaler()\n",
        "\n",
        "# Fit the scaler on the training data and transform both training and testing data\n",
        "X_train_scaled = scaler.fit_transform(X_train)\n",
        "X_test_scaled = scaler.transform(X_test)"
      ],
      "metadata": {
        "id": "PnAfXq7Yyj7X"
      },
      "execution_count": null,
      "outputs": []
    },
    {
      "cell_type": "code",
      "source": [
        "# Define the neural network model\n",
        "model = keras.Sequential([\n",
        "    keras.layers.Input( shape=(X_train_scaled.shape[1],)),  # Input layer\n",
        "    keras.layers.Dense(512, activation='relu'),  # Hidden layer with 512 units and ReLU activation\n",
        "    keras.layers.Dense(216, activation='relu'),  # Hidden layer with 216 units and ReLU activation\n",
        "    keras.layers.Dense(1, activation='linear')  # Output layer with linear activation for regression\n",
        "])\n",
        "\n",
        "# Compile the model with Huber loss\n",
        "huber_loss = tf.keras.losses.Huber(delta=1.0)  # You can adjust the 'delta' parameter as needed\n",
        "model.compile(optimizer='adam', loss=huber_loss)  # Use Huber loss for regression"
      ],
      "metadata": {
        "id": "otwvwOeAyns_"
      },
      "execution_count": null,
      "outputs": []
    },
    {
      "cell_type": "code",
      "source": [
        "# Train the model\n",
        "model.fit(X_train_scaled, y_train, epochs=5, batch_size=64, validation_data=(X_test_scaled, y_test))\n"
      ],
      "metadata": {
        "id": "jOZARcp9yrLg"
      },
      "execution_count": null,
      "outputs": []
    },
    {
      "cell_type": "code",
      "source": [
        "\n"
      ],
      "metadata": {
        "id": "emq9j0ekeBjx"
      },
      "execution_count": null,
      "outputs": []
    },
    {
      "cell_type": "code",
      "source": [
        "model_losses = pd.DataFrame(model.history.history)\n",
        "model_losses.plot()\n"
      ],
      "metadata": {
        "id": "UW7e3XBWyuO2"
      },
      "execution_count": null,
      "outputs": []
    },
    {
      "cell_type": "code",
      "source": [
        "# Make predictions\n",
        "predictions = model.predict(X_test_scaled)\n",
        "\n",
        "from sklearn.metrics import mean_absolute_error,mean_squared_error\n",
        "mean_absolute_error(y_test,predictions)\n"
      ],
      "metadata": {
        "id": "tuhLOGuRy4xB"
      },
      "execution_count": null,
      "outputs": []
    },
    {
      "cell_type": "code",
      "source": [
        "import ipywidgets as widgets\n",
        "from IPython.display import display, clear_output\n",
        "\n",
        "import warnings\n",
        "warnings.filterwarnings(\"ignore\")\n",
        "\n",
        "venue = widgets.Dropdown(options=df['venue'].unique().tolist(),description='Select Venue:')\n",
        "batting_team = widgets.Dropdown(options =df['bat_team'].unique().tolist(),  description='Select Batting Team:')\n",
        "bowling_team = widgets.Dropdown(options=df['bowl_team'].unique().tolist(),  description='Select Bowlling Team:')\n",
        "striker = widgets.Dropdown(options=df['batsman'].unique().tolist(), description='Select Striker:')\n",
        "bowler = widgets.Dropdown(options=df['bowler'].unique().tolist(), description='Select Bowler:')\n",
        "\n",
        "predict_button = widgets.Button(description=\"Predict Score\")\n",
        "\n",
        "def predict_score(b):\n",
        "    with output:\n",
        "        clear_output()  # Clear the previous output\n",
        "\n",
        "\n",
        "        # Decode the encoded values back to their original values\n",
        "        decoded_venue = venue_encoder.transform([venue.value])\n",
        "        decoded_batting_team = batting_team_encoder.transform([batting_team.value])\n",
        "        decoded_bowling_team = bowling_team_encoder.transform([bowling_team.value])\n",
        "        decoded_striker = striker_encoder.transform([striker.value])\n",
        "        decoded_bowler = bowler_encoder.transform([bowler.value])\n",
        "\n",
        "\n",
        "        input = np.array([decoded_venue,  decoded_batting_team, decoded_bowling_team,decoded_striker, decoded_bowler])\n",
        "        input = input.reshape(1,5)\n",
        "        input = scaler.transform(input)\n",
        "        #print(input)\n",
        "        predicted_score = model.predict(input)\n",
        "        predicted_score = int(predicted_score[0,0])\n",
        "\n",
        "        print(predicted_score)\n"
      ],
      "metadata": {
        "id": "SkomZfJ5y72s"
      },
      "execution_count": null,
      "outputs": []
    },
    {
      "cell_type": "code",
      "source": [
        "predict_button.on_click(predict_score)\n",
        "output = widgets.Output()\n",
        "display(venue, batting_team, bowling_team, striker, bowler, predict_button, output)\n"
      ],
      "metadata": {
        "id": "yk0Z5U_Jy-9L"
      },
      "execution_count": null,
      "outputs": []
    }
  ]
}